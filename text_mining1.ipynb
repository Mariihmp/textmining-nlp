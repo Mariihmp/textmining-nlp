{
  "nbformat": 4,
  "nbformat_minor": 0,
  "metadata": {
    "colab": {
      "provenance": [],
      "authorship_tag": "ABX9TyPVWCDpTBivMI8j4E4W5pp4",
      "include_colab_link": true
    },
    "kernelspec": {
      "name": "python3",
      "display_name": "Python 3"
    },
    "language_info": {
      "name": "python"
    }
  },
  "cells": [
    {
      "cell_type": "markdown",
      "metadata": {
        "id": "view-in-github",
        "colab_type": "text"
      },
      "source": [
        "<a href=\"https://colab.research.google.com/github/Mariihmp/textmining-nlp/blob/main/text_mining1.ipynb\" target=\"_parent\"><img src=\"https://colab.research.google.com/assets/colab-badge.svg\" alt=\"Open In Colab\"/></a>"
      ]
    },
    {
      "cell_type": "code",
      "execution_count": 3,
      "metadata": {
        "id": "Vh8Pd-z3TDBe"
      },
      "outputs": [],
      "source": [
        "!pip install spacy\n"
      ]
    },
    {
      "cell_type": "code",
      "source": [
        "import spacy\n",
        "sptool = spacy.load('en_core_web_sm')"
      ],
      "metadata": {
        "id": "y-X0sP5BTi6h"
      },
      "execution_count": 5,
      "outputs": []
    },
    {
      "cell_type": "code",
      "source": [
        "txt = \"trf iyhi ouj! s.bakhshaei@gmail.com\"\n",
        "doc = sptool(txt)\n",
        "for tok in doc:\n",
        "  print(tok, tok.text, tok.idx)"
      ],
      "metadata": {
        "colab": {
          "base_uri": "https://localhost:8080/"
        },
        "id": "XqOgJsfkTy2J",
        "outputId": "68572abf-131d-4fa1-fb7e-dd00adc0c663"
      },
      "execution_count": 6,
      "outputs": [
        {
          "output_type": "stream",
          "name": "stdout",
          "text": [
            "trf trf 0\n",
            "iyhi iyhi 4\n",
            "ouj ouj 9\n",
            "! ! 12\n",
            "s.bakhshaei@gmail.com s.bakhshaei@gmail.com 14\n"
          ]
        }
      ]
    },
    {
      "cell_type": "code",
      "source": [
        "doc"
      ],
      "metadata": {
        "colab": {
          "base_uri": "https://localhost:8080/"
        },
        "id": "2KiE0ztxT4CF",
        "outputId": "8ae4dc36-ec34-4aa1-9ff9-2a1533263af4"
      },
      "execution_count": 7,
      "outputs": [
        {
          "output_type": "execute_result",
          "data": {
            "text/plain": [
              "trf iyhi ouj! s.bakhshaei@gmail.com"
            ]
          },
          "metadata": {},
          "execution_count": 7
        }
      ]
    },
    {
      "cell_type": "code",
      "source": [
        "for sent in doc.sents:\n",
        "  print(sent)"
      ],
      "metadata": {
        "colab": {
          "base_uri": "https://localhost:8080/"
        },
        "id": "MgcDoJnST6tt",
        "outputId": "93d1cd3f-94d1-4835-88ad-420db209c67d"
      },
      "execution_count": 8,
      "outputs": [
        {
          "output_type": "stream",
          "name": "stdout",
          "text": [
            "trf iyhi ouj!\n",
            "s.bakhshaei@gmail.com\n"
          ]
        }
      ]
    },
    {
      "cell_type": "code",
      "source": [
        "  txt = \"this is a test!\"\n",
        "  doc = sptool(txt)\n",
        "\n",
        "\n",
        "print(\"\\n \\t {:<6}\\t {:<6}\\t {:<6}\\t {:<6}\\t \".format(\"alpha\",\"digit\",\"stop\",\"punct\"))\n",
        "  for tok in doc:\n",
        "    print(f\" {tok}\\t {str(tok.is_alpha):<6}\\t {str(tok.is_digit):<6}\\t {str(tok.is_stop):<6}\\t {str(tok.is_punct):<6}\\t\")"
      ],
      "metadata": {
        "colab": {
          "base_uri": "https://localhost:8080/"
        },
        "id": "WasTQS0dT_iT",
        "outputId": "a69618ee-7d88-4a34-b36e-08e95abff543"
      },
      "execution_count": 11,
      "outputs": [
        {
          "output_type": "stream",
          "name": "stdout",
          "text": [
            "\n",
            " \t alpha \t digit \t stop  \t punct \t \n",
            " this\t True  \t False \t True  \t False \t\n",
            " is\t True  \t False \t True  \t False \t\n",
            " a\t True  \t False \t True  \t False \t\n",
            " test\t True  \t False \t False \t False \t\n",
            " !\t False \t False \t False \t True  \t\n"
          ]
        }
      ]
    },
    {
      "cell_type": "code",
      "source": [
        "!pip install wikipedia"
      ],
      "metadata": {
        "colab": {
          "base_uri": "https://localhost:8080/"
        },
        "id": "XNYPWb--UNBd",
        "outputId": "45309172-3aed-4a61-998f-9d85cdb432a2"
      },
      "execution_count": 12,
      "outputs": [
        {
          "output_type": "stream",
          "name": "stdout",
          "text": [
            "Collecting wikipedia\n",
            "  Downloading wikipedia-1.4.0.tar.gz (27 kB)\n",
            "  Preparing metadata (setup.py) ... \u001b[?25l\u001b[?25hdone\n",
            "Requirement already satisfied: beautifulsoup4 in /usr/local/lib/python3.10/dist-packages (from wikipedia) (4.12.3)\n",
            "Requirement already satisfied: requests<3.0.0,>=2.0.0 in /usr/local/lib/python3.10/dist-packages (from wikipedia) (2.32.3)\n",
            "Requirement already satisfied: charset-normalizer<4,>=2 in /usr/local/lib/python3.10/dist-packages (from requests<3.0.0,>=2.0.0->wikipedia) (3.4.0)\n",
            "Requirement already satisfied: idna<4,>=2.5 in /usr/local/lib/python3.10/dist-packages (from requests<3.0.0,>=2.0.0->wikipedia) (3.10)\n",
            "Requirement already satisfied: urllib3<3,>=1.21.1 in /usr/local/lib/python3.10/dist-packages (from requests<3.0.0,>=2.0.0->wikipedia) (2.2.3)\n",
            "Requirement already satisfied: certifi>=2017.4.17 in /usr/local/lib/python3.10/dist-packages (from requests<3.0.0,>=2.0.0->wikipedia) (2024.8.30)\n",
            "Requirement already satisfied: soupsieve>1.2 in /usr/local/lib/python3.10/dist-packages (from beautifulsoup4->wikipedia) (2.6)\n",
            "Building wheels for collected packages: wikipedia\n",
            "  Building wheel for wikipedia (setup.py) ... \u001b[?25l\u001b[?25hdone\n",
            "  Created wheel for wikipedia: filename=wikipedia-1.4.0-py3-none-any.whl size=11679 sha256=17642afdba2e7fe0a22e94d06bcce575bdb95b7add4c2fa30dd073e0bea6c5e7\n",
            "  Stored in directory: /root/.cache/pip/wheels/5e/b6/c5/93f3dec388ae76edc830cb42901bb0232504dfc0df02fc50de\n",
            "Successfully built wikipedia\n",
            "Installing collected packages: wikipedia\n",
            "Successfully installed wikipedia-1.4.0\n"
          ]
        }
      ]
    },
    {
      "cell_type": "code",
      "source": [
        "import wikipedia\n",
        "wikipedia.page(\"Geography\")\n",
        "wikipedia.summary(\"Geography\")\n"
      ],
      "metadata": {
        "colab": {
          "base_uri": "https://localhost:8080/",
          "height": 123
        },
        "id": "6dY0f_n0USXQ",
        "outputId": "f04b5816-8471-4aad-9e69-e6bca5c7a49f"
      },
      "execution_count": 13,
      "outputs": [
        {
          "output_type": "execute_result",
          "data": {
            "text/plain": [
              "'Geography (from Ancient Greek γεωγραφία geōgraphía; combining gê \\'Earth\\' and gráphō \\'write\\') is the study of the lands, features, inhabitants, and phenomena of Earth. Geography is an all-encompassing discipline that seeks an understanding of Earth and its human and natural complexities—not merely where objects are, but also how they have changed and come to be. While geography is specific to Earth, many concepts can be applied more broadly to other celestial bodies in the field of planetary science. Geography has been called \"a bridge between natural science and social science disciplines.\"\\nOrigins of many of the concepts in geography can be traced to Greek Eratosthenes of Cyrene, who may have coined the term \"geographia\" (c.\\u2009276 BC – c.\\u2009195/194 BC). The first recorded use of the word γεωγραφία was as the title of a book by Greek scholar Claudius Ptolemy (100 – 170 AD). This work created the so-called \"Ptolemaic tradition\" of geography, which included \"Ptolemaic cartographic theory.\" However, the concepts of geography (such as cartography) date back to the earliest attempts to understand the world spatially, with the earliest example of an attempted world map dating to the 9th century BCE in ancient Babylon. The history of geography as a discipline spans cultures and millennia, being independently developed by multiple groups, and cross-pollinated by trade between these groups. The core concepts of geography consistent between all approaches are a focus on space, place, time, and scale.\\nToday, geography is an extremely broad discipline with multiple approaches and modalities. There have been multiple attempts to organize the discipline, including the four traditions of geography, and into branches. Techniques employed can generally be broken down into quantitative and qualitative approaches, with many studies taking mixed-methods approaches. Common techniques include cartography, remote sensing, interviews, and surveying.'"
            ],
            "application/vnd.google.colaboratory.intrinsic+json": {
              "type": "string"
            }
          },
          "metadata": {},
          "execution_count": 13
        }
      ]
    },
    {
      "cell_type": "code",
      "source": [
        "spw = spacy.lang.en.stop_words.STOP_WORDS\n",
        "print(len(spw))\n",
        "\n",
        "for i, x in enumerate(spw):\n",
        "  if i>5:\n",
        "    break\n",
        "  print(x)"
      ],
      "metadata": {
        "colab": {
          "base_uri": "https://localhost:8080/"
        },
        "id": "QP3ALf42Ueim",
        "outputId": "c21134fd-5b26-4479-d09d-d55f36cfecd7"
      },
      "execution_count": 14,
      "outputs": [
        {
          "output_type": "stream",
          "name": "stdout",
          "text": [
            "326\n",
            "hereupon\n",
            "for\n",
            "whom\n",
            "'s\n",
            "see\n",
            "ourselves\n"
          ]
        }
      ]
    },
    {
      "cell_type": "code",
      "source": [
        "txt = wikipedia.summary(\"Jacob Anderson\")\n",
        "print(txt)\n",
        "\n",
        "doc = sptool(txt)\n",
        "wrd1 = [tok for tok in doc]\n",
        "print(wrd1)\n"
      ],
      "metadata": {
        "colab": {
          "base_uri": "https://localhost:8080/"
        },
        "id": "svxsxcdsUjTT",
        "outputId": "56468204-aa6d-4d35-8bb1-94fd3aa45b18"
      },
      "execution_count": 15,
      "outputs": [
        {
          "output_type": "stream",
          "name": "stdout",
          "text": [
            "Jacob Basil Anderson (born 18 June 1990) is a British actor and musician. As an actor, he is known for his roles as Grey Worm in Game of Thrones (2013–19), Louis de Pointe du Lac in Anne Rice’s Interview with the Vampire (2022–present), his recurring roles in Episodes (2012) and Broadchurch (2013), and the thirteenth series of the revival of Doctor Who (2021–22). As a musician, he uses the alias Raleigh Ritchie (named after his favorite characters from The Royal Tenenbaums); his debut album, You're a Man Now, Boy, was a soul and trip hop album released in 2016 to positive reviews. Anderson's second studio album, Andy, was released in 2020.\n",
            "[Jacob, Basil, Anderson, (, born, 18, June, 1990, ), is, a, British, actor, and, musician, ., As, an, actor, ,, he, is, known, for, his, roles, as, Grey, Worm, in, Game, of, Thrones, (, 2013–19, ), ,, Louis, de, Pointe, du, Lac, in, Anne, Rice, ’s, Interview, with, the, Vampire, (, 2022, –, present, ), ,, his, recurring, roles, in, Episodes, (, 2012, ), and, Broadchurch, (, 2013, ), ,, and, the, thirteenth, series, of, the, revival, of, Doctor, Who, (, 2021–22, ), ., As, a, musician, ,, he, uses, the, alias, Raleigh, Ritchie, (, named, after, his, favorite, characters, from, The, Royal, Tenenbaums, ), ;, his, debut, album, ,, You, 're, a, Man, Now, ,, Boy, ,, was, a, soul, and, trip, hop, album, released, in, 2016, to, positive, reviews, ., Anderson, 's, second, studio, album, ,, Andy, ,, was, released, in, 2020, .]\n"
          ]
        }
      ]
    },
    {
      "cell_type": "code",
      "source": [
        "wrd1 = [tok for tok in doc if tok.text not in spw and not tok.is_punct]\n",
        "print(wrd1)"
      ],
      "metadata": {
        "colab": {
          "base_uri": "https://localhost:8080/"
        },
        "id": "tBj7ego9UqKp",
        "outputId": "4ca79499-b5f7-4e30-aed1-b8edf5493a2c"
      },
      "execution_count": 16,
      "outputs": [
        {
          "output_type": "stream",
          "name": "stdout",
          "text": [
            "[Jacob, Basil, Anderson, born, 18, June, 1990, British, actor, musician, As, actor, known, roles, Grey, Worm, Game, Thrones, 2013–19, Louis, de, Pointe, du, Lac, Anne, Rice, Interview, Vampire, 2022, present, recurring, roles, Episodes, 2012, Broadchurch, 2013, thirteenth, series, revival, Doctor, Who, 2021–22, As, musician, uses, alias, Raleigh, Ritchie, named, favorite, characters, The, Royal, Tenenbaums, debut, album, You, Man, Now, Boy, soul, trip, hop, album, released, 2016, positive, reviews, Anderson, second, studio, album, Andy, released, 2020]\n"
          ]
        }
      ]
    },
    {
      "cell_type": "code",
      "source": [
        "for x in wrd1:\n",
        "  print(x, x.lemma_, x.lemma)#hashed code"
      ],
      "metadata": {
        "colab": {
          "base_uri": "https://localhost:8080/"
        },
        "id": "GF6V_RtoUtW_",
        "outputId": "5dd93a54-4a6b-4edc-9852-3a78d68e8505"
      },
      "execution_count": 17,
      "outputs": [
        {
          "output_type": "stream",
          "name": "stdout",
          "text": [
            "Jacob Jacob 10168931078000035432\n",
            "Basil Basil 12443053959734160645\n",
            "Anderson Anderson 11742044099050732912\n",
            "born bear 3737373500888618661\n",
            "18 18 3049302120552557844\n",
            "June June 187940016428511799\n",
            "1990 1990 8737485628806624193\n",
            "British british 5280546428154550536\n",
            "actor actor 6917656656232907963\n",
            "musician musician 2611489286707657924\n",
            "As as 7437575085468336610\n",
            "actor actor 6917656656232907963\n",
            "known know 7743033266031195906\n",
            "roles role 15289190992820506615\n",
            "Grey Grey 9174324668396096583\n",
            "Worm Worm 9959492400588976353\n",
            "Game Game 12219608307156225412\n",
            "Thrones Thrones 11603150928916206985\n",
            "2013–19 2013–19 9563428098623388907\n",
            "Louis Louis 17385344523318437648\n",
            "de de 11144093025662894627\n",
            "Pointe Pointe 17436862647786104673\n",
            "du du 17166863280368009634\n",
            "Lac Lac 1566540245905693781\n",
            "Anne Anne 5756710053771707941\n",
            "Rice Rice 2884007220888037773\n",
            "Interview Interview 14483864058589920370\n",
            "Vampire Vampire 2208453861547317219\n",
            "2022 2022 13590857890977953713\n",
            "present present 138130184627603044\n",
            "recurring recur 8755862117782530844\n",
            "roles role 15289190992820506615\n",
            "Episodes Episodes 12800484633986830206\n",
            "2012 2012 10853304199816077339\n",
            "Broadchurch Broadchurch 8710298720811537573\n",
            "2013 2013 10836075798788310060\n",
            "thirteenth thirteenth 7484969183733777444\n",
            "series series 10736505426548514001\n",
            "revival revival 4539752741335894119\n",
            "Doctor Doctor 5516728874780999063\n",
            "Who who 3876862883474502309\n",
            "2021–22 2021–22 6733716502521395227\n",
            "As as 7437575085468336610\n",
            "musician musician 2611489286707657924\n",
            "uses use 6873750497785110593\n",
            "alias alia 11474850696649506722\n",
            "Raleigh Raleigh 1207954730567328958\n",
            "Ritchie Ritchie 14443976637152075350\n",
            "named name 18309932012808971453\n",
            "favorite favorite 4906751406723967475\n",
            "characters character 18393673832915104137\n",
            "The the 7425985699627899538\n",
            "Royal Royal 10275277408386923532\n",
            "Tenenbaums Tenenbaums 8711200775049064080\n",
            "debut debut 9363127666572358241\n",
            "album album 16366104565236658197\n",
            "You you 7624161793554793053\n",
            "Man Man 5798247937453609816\n",
            "Now now 17157488710739566268\n",
            "Boy Boy 14497584066807692387\n",
            "soul soul 10083117423477906790\n",
            "trip trip 7583186369227974443\n",
            "hop hop 12561285763343651964\n",
            "album album 16366104565236658197\n",
            "released release 6170043792778714125\n",
            "2016 2016 1451041761559935927\n",
            "positive positive 8177200212695065927\n",
            "reviews review 6618089098118556736\n",
            "Anderson Anderson 11742044099050732912\n",
            "second second 18193336062778529705\n",
            "studio studio 256657426954626641\n",
            "album album 16366104565236658197\n",
            "Andy Andy 17460462666427954414\n",
            "released release 6170043792778714125\n",
            "2020 2020 12787237664664642308\n"
          ]
        }
      ]
    },
    {
      "cell_type": "code",
      "source": [
        "print(\" \".join(x.lemma_ for x in wrd1))\n",
        "print(\" \".join(x.pos_ for x in wrd1))"
      ],
      "metadata": {
        "colab": {
          "base_uri": "https://localhost:8080/"
        },
        "id": "6wXpLaDhUw-D",
        "outputId": "0a480152-4298-4fe2-d3b5-46591847df3d"
      },
      "execution_count": 18,
      "outputs": [
        {
          "output_type": "stream",
          "name": "stdout",
          "text": [
            "Jacob Basil Anderson bear 18 June 1990 british actor musician as actor know role Grey Worm Game Thrones 2013–19 Louis de Pointe du Lac Anne Rice Interview Vampire 2022 present recur role Episodes 2012 Broadchurch 2013 thirteenth series revival Doctor who 2021–22 as musician use alia Raleigh Ritchie name favorite character the Royal Tenenbaums debut album you Man now Boy soul trip hop album release 2016 positive review Anderson second studio album Andy release 2020\n",
            "PROPN PROPN PROPN VERB NUM PROPN NUM ADJ NOUN NOUN ADP NOUN VERB NOUN PROPN PROPN PROPN PROPN NUM PROPN PROPN PROPN NOUN PROPN PROPN PROPN PROPN PROPN NUM ADJ VERB NOUN PROPN NUM PROPN NUM ADJ NOUN NOUN PROPN PRON NUM ADP NOUN VERB NOUN PROPN PROPN VERB ADJ NOUN DET PROPN PROPN NOUN NOUN PRON PROPN ADV PROPN NOUN NOUN PROPN NOUN VERB NUM ADJ NOUN PROPN ADJ NOUN NOUN PROPN VERB NUM\n"
          ]
        }
      ]
    },
    {
      "cell_type": "code",
      "source": [
        "for ent in doc.ents:\n",
        "  print(ent, ent.label_,\"\\t\",spacy.explain(ent.label_)) #entity names"
      ],
      "metadata": {
        "colab": {
          "base_uri": "https://localhost:8080/"
        },
        "id": "JJ_QXZk1VD8p",
        "outputId": "26ac569d-6436-48ca-c26b-d97982a222bd"
      },
      "execution_count": 19,
      "outputs": [
        {
          "output_type": "stream",
          "name": "stdout",
          "text": [
            "Jacob Basil Anderson PERSON \t People, including fictional\n",
            "18 June 1990 DATE \t Absolute or relative dates or periods\n",
            "British NORP \t Nationalities or religious or political groups\n",
            "Grey Worm ORG \t Companies, agencies, institutions, etc.\n",
            "Louis de Pointe du Lac PERSON \t People, including fictional\n",
            "Anne Rice’s Interview PERSON \t People, including fictional\n",
            "Vampire PERSON \t People, including fictional\n",
            "2022 DATE \t Absolute or relative dates or periods\n",
            "Episodes PERSON \t People, including fictional\n",
            "2012 DATE \t Absolute or relative dates or periods\n",
            "Broadchurch ORG \t Companies, agencies, institutions, etc.\n",
            "2013 DATE \t Absolute or relative dates or periods\n",
            "thirteenth ORDINAL \t \"first\", \"second\", etc.\n",
            "2021–22 ORDINAL \t \"first\", \"second\", etc.\n",
            "Raleigh Ritchie PERSON \t People, including fictional\n",
            "The Royal Tenenbaums ORG \t Companies, agencies, institutions, etc.\n",
            "2016 DATE \t Absolute or relative dates or periods\n",
            "Anderson PERSON \t People, including fictional\n",
            "second ORDINAL \t \"first\", \"second\", etc.\n",
            "Andy PERSON \t People, including fictional\n",
            "2020 DATE \t Absolute or relative dates or periods\n"
          ]
        }
      ]
    },
    {
      "cell_type": "code",
      "source": [],
      "metadata": {
        "id": "W1SIqjbAVFR4"
      },
      "execution_count": null,
      "outputs": []
    }
  ]
}